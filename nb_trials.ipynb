{
 "cells": [
  {
   "cell_type": "code",
   "execution_count": 319,
   "metadata": {},
   "outputs": [],
   "source": [
    "import numpy as np\n",
    "import pandas as pd\n",
    "import seaborn as sns\n",
    "import matplotlib.pyplot as plt"
   ]
  },
  {
   "cell_type": "code",
   "execution_count": 320,
   "metadata": {},
   "outputs": [
    {
     "data": {
      "text/html": [
       "<div>\n",
       "<style scoped>\n",
       "    .dataframe tbody tr th:only-of-type {\n",
       "        vertical-align: middle;\n",
       "    }\n",
       "\n",
       "    .dataframe tbody tr th {\n",
       "        vertical-align: top;\n",
       "    }\n",
       "\n",
       "    .dataframe thead th {\n",
       "        text-align: right;\n",
       "    }\n",
       "</style>\n",
       "<table border=\"1\" class=\"dataframe\">\n",
       "  <thead>\n",
       "    <tr style=\"text-align: right;\">\n",
       "      <th></th>\n",
       "      <th>Primary_Site</th>\n",
       "      <th>Protocol</th>\n",
       "      <th>Principal_Investigator</th>\n",
       "      <th>Date_Opened</th>\n",
       "      <th>Date_Closed</th>\n",
       "      <th>Study_Phase</th>\n",
       "      <th>Title</th>\n",
       "    </tr>\n",
       "  </thead>\n",
       "  <tbody>\n",
       "    <tr>\n",
       "      <th>0</th>\n",
       "      <td>Brain and Nervous System</td>\n",
       "      <td>N-1262421</td>\n",
       "      <td>Abad, A</td>\n",
       "      <td>01/07/2022</td>\n",
       "      <td>NaN</td>\n",
       "      <td>II</td>\n",
       "      <td>(A071702) A Phase II Study of Checkpoint Blockade Immunotherapy in Patients with Somatically Hypermutated Recurrent WHO Grade 4 Glioma</td>\n",
       "    </tr>\n",
       "  </tbody>\n",
       "</table>\n",
       "</div>"
      ],
      "text/plain": [
       "               Primary_Site   Protocol Principal_Investigator Date_Opened  \\\n",
       "0  Brain and Nervous System  N-1262421                Abad, A  01/07/2022   \n",
       "\n",
       "  Date_Closed Study_Phase  \\\n",
       "0         NaN          II   \n",
       "\n",
       "                                                                                                                                    Title  \n",
       "0  (A071702) A Phase II Study of Checkpoint Blockade Immunotherapy in Patients with Somatically Hypermutated Recurrent WHO Grade 4 Glioma  "
      ]
     },
     "execution_count": 320,
     "metadata": {},
     "output_type": "execute_result"
    }
   ],
   "source": [
    "df_trials = pd.read_csv('Current_Active_Clinical_Trials_-_Roswell_Park_Cancer_Institute.csv')\n",
    "df_trials.head(1)"
   ]
  },
  {
   "cell_type": "code",
   "execution_count": 321,
   "metadata": {},
   "outputs": [
    {
     "data": {
      "text/html": [
       "<div>\n",
       "<style scoped>\n",
       "    .dataframe tbody tr th:only-of-type {\n",
       "        vertical-align: middle;\n",
       "    }\n",
       "\n",
       "    .dataframe tbody tr th {\n",
       "        vertical-align: top;\n",
       "    }\n",
       "\n",
       "    .dataframe thead th {\n",
       "        text-align: right;\n",
       "    }\n",
       "</style>\n",
       "<table border=\"1\" class=\"dataframe\">\n",
       "  <thead>\n",
       "    <tr style=\"text-align: right;\">\n",
       "      <th></th>\n",
       "      <th>Primary_Site</th>\n",
       "      <th>Protocol</th>\n",
       "      <th>Principal_Investigator</th>\n",
       "      <th>Date_Opened</th>\n",
       "      <th>Date_Closed</th>\n",
       "      <th>Study_Phase</th>\n",
       "      <th>Title</th>\n",
       "    </tr>\n",
       "  </thead>\n",
       "  <tbody>\n",
       "    <tr>\n",
       "      <th>0</th>\n",
       "      <td>Brain and Nervous System</td>\n",
       "      <td>N-1262421</td>\n",
       "      <td>Abad, A</td>\n",
       "      <td>01/07/2022</td>\n",
       "      <td>NaN</td>\n",
       "      <td>II</td>\n",
       "      <td>(A071702) A Phase II Study of Checkpoint Blockade Immunotherapy in Patients with Somatically Hypermutated Recurrent WHO Grade 4 Glioma</td>\n",
       "    </tr>\n",
       "    <tr>\n",
       "      <th>1</th>\n",
       "      <td>Brain and Nervous System</td>\n",
       "      <td>I-546319</td>\n",
       "      <td>Abad, A</td>\n",
       "      <td>07/08/2021</td>\n",
       "      <td>03/23/2022</td>\n",
       "      <td>NaN</td>\n",
       "      <td>Expanded Access to SurVaxM for Treatment of Patients with Glioblastoma Who Have No Access to Other Comparable or Alternative Therapy or Have Completed Treatment on a non-Randomized Clinical Trial of SurVaxM and May Benefit from Further Treatment</td>\n",
       "    </tr>\n",
       "    <tr>\n",
       "      <th>2</th>\n",
       "      <td>Brain and Nervous System</td>\n",
       "      <td>P-1281721</td>\n",
       "      <td>Abad, A</td>\n",
       "      <td>03/08/2022</td>\n",
       "      <td>NaN</td>\n",
       "      <td>II</td>\n",
       "      <td>A Multicenter, Open-Label Study with a Randomized Control Arm of the Efficacy, Safety, and Pharmacokinetics of Intravenously Infused Berubicin in Adult Patients with Recurrent Glioblastoma Multiforme (WHO Grade IV) After Failure of Standard First Line Therapy</td>\n",
       "    </tr>\n",
       "    <tr>\n",
       "      <th>3</th>\n",
       "      <td>Brain and Nervous System</td>\n",
       "      <td>I-813720</td>\n",
       "      <td>Abad, A</td>\n",
       "      <td>12/29/2021</td>\n",
       "      <td>NaN</td>\n",
       "      <td>II</td>\n",
       "      <td>Prospective Randomized Placebo-Controlled Trial of SurVaxM Plus Adjuvant Temozolomide for Newly Diagnosed Glioblastoma (SURVIVE)</td>\n",
       "    </tr>\n",
       "  </tbody>\n",
       "</table>\n",
       "</div>"
      ],
      "text/plain": [
       "               Primary_Site   Protocol Principal_Investigator Date_Opened  \\\n",
       "0  Brain and Nervous System  N-1262421                Abad, A  01/07/2022   \n",
       "1  Brain and Nervous System   I-546319                Abad, A  07/08/2021   \n",
       "2  Brain and Nervous System  P-1281721                Abad, A  03/08/2022   \n",
       "3  Brain and Nervous System   I-813720                Abad, A  12/29/2021   \n",
       "\n",
       "  Date_Closed Study_Phase  \\\n",
       "0         NaN          II   \n",
       "1  03/23/2022         NaN   \n",
       "2         NaN          II   \n",
       "3         NaN          II   \n",
       "\n",
       "                                                                                                                                                                                                                                                                 Title  \n",
       "0                                                                                                                               (A071702) A Phase II Study of Checkpoint Blockade Immunotherapy in Patients with Somatically Hypermutated Recurrent WHO Grade 4 Glioma  \n",
       "1                Expanded Access to SurVaxM for Treatment of Patients with Glioblastoma Who Have No Access to Other Comparable or Alternative Therapy or Have Completed Treatment on a non-Randomized Clinical Trial of SurVaxM and May Benefit from Further Treatment  \n",
       "2  A Multicenter, Open-Label Study with a Randomized Control Arm of the Efficacy, Safety, and Pharmacokinetics of Intravenously Infused Berubicin in Adult Patients with Recurrent Glioblastoma Multiforme (WHO Grade IV) After Failure of Standard First Line Therapy  \n",
       "3                                                                                                                                     Prospective Randomized Placebo-Controlled Trial of SurVaxM Plus Adjuvant Temozolomide for Newly Diagnosed Glioblastoma (SURVIVE)  "
      ]
     },
     "execution_count": 321,
     "metadata": {},
     "output_type": "execute_result"
    }
   ],
   "source": [
    "df_trials[df_trials['Principal_Investigator'] == 'Abad, A' ]"
   ]
  },
  {
   "cell_type": "code",
   "execution_count": 322,
   "metadata": {},
   "outputs": [],
   "source": [
    "df_trials['Principal_Investigator'] = df_trials['Principal_Investigator'].str.strip()\n",
    "df_trials['Principal_Investigator'] = df_trials['Principal_Investigator'].str.lower()\n"
   ]
  },
  {
   "cell_type": "code",
   "execution_count": 323,
   "metadata": {},
   "outputs": [
    {
     "data": {
      "text/plain": [
       "array(['abad, a', 'alarcon velasco, s', 'aly, a', 'ambrosone, c',\n",
       "       'bain, a', 'bambach, b', 'barth, m', 'besharat shafiei, s',\n",
       "       'bonaccio, e', 'bouchard, e', 'buxbaum, n', 'chatta, g', 'chen, g',\n",
       "       'chen, h', 'chowdhry, v', 'cortese, m', 'dean, g', 'demmy, t',\n",
       "       'dexter, e', 'dy, g', 'fabiano, a', 'fenstermaker, r',\n",
       "       'fountzilas, c', 'frederick, p', 'fung-kee-fung, s', 'gandhi, s',\n",
       "       'george, s', 'ghione, p', 'glaser, k', 'goniewicz, m',\n",
       "       'gopalakrishnan, d', 'green, s', 'griffiths, e', 'grimmer, j',\n",
       "       'gupta, a', 'guru, k', 'hahn, t', 'haring, r', 'hernandez, f',\n",
       "       'herr, m', 'hicks, w', 'hillengass, j', 'hiscock, m', 'ho, c',\n",
       "       'hong, c', 'hutson, a', 'hyland, a', 'ivanick, n', 'iyer, r',\n",
       "       'jain, p', 'kane, j', 'kelly, k', 'keppel, a', 'kisailus, a',\n",
       "       'krishnamurthy, a', 'kuettel, m', 'kukar, m', 'lau, j', 'lee, k',\n",
       "       'lele, s', 'levine, e', 'lipinski, l', 'mahoney, m', 'malik, n',\n",
       "       'mccarthy, p', 'mcspadden, r', 'mohler, j', 'morrison, c',\n",
       "       'moysich, k', 'mukherjee, s', 'nastiuk, k', 'nwogu, c',\n",
       "       \"o'brien, s\", \"o'connor, r\", \"o'connor, t\", 'odunsi, k',\n",
       "       'ozturk, c', 'paragh, g', 'pokharel, s', 'prasad, d',\n",
       "       'przespolewski, a', 'puzanov, i', 'quinn, t', 'quisenberry, a',\n",
       "       'reid, m', 'riebandt, g', 'rodriguez, e', 'rokitka, d', 'ross, m',\n",
       "       'schneller, l', 'segal, b', 'sheffer, c', 'sherrow, c', 'singh, a',\n",
       "       'skitzki, j', 'smith, d', 'storer, a', 'sumlin, a', 'thompson, j',\n",
       "       'torka, p', 'travers, m', 'twist, c', 'vadehra, d', 'walter, m',\n",
       "       'wang, e', 'witkiewicz, a', 'wooten, k', 'yau, e', 'yeary, k',\n",
       "       'yendamuri, s', 'zsiros, e'], dtype=object)"
      ]
     },
     "execution_count": 323,
     "metadata": {},
     "output_type": "execute_result"
    }
   ],
   "source": [
    "df_trials['Principal_Investigator'].unique()"
   ]
  },
  {
   "cell_type": "code",
   "execution_count": 324,
   "metadata": {},
   "outputs": [
    {
     "data": {
      "text/html": [
       "<div>\n",
       "<style scoped>\n",
       "    .dataframe tbody tr th:only-of-type {\n",
       "        vertical-align: middle;\n",
       "    }\n",
       "\n",
       "    .dataframe tbody tr th {\n",
       "        vertical-align: top;\n",
       "    }\n",
       "\n",
       "    .dataframe thead th {\n",
       "        text-align: right;\n",
       "    }\n",
       "</style>\n",
       "<table border=\"1\" class=\"dataframe\">\n",
       "  <thead>\n",
       "    <tr style=\"text-align: right;\">\n",
       "      <th></th>\n",
       "      <th>Principal_Investigator</th>\n",
       "      <th>Primary_Site</th>\n",
       "    </tr>\n",
       "  </thead>\n",
       "  <tbody>\n",
       "    <tr>\n",
       "      <th>0</th>\n",
       "      <td>abad, a</td>\n",
       "      <td>Brain and Nervous System</td>\n",
       "    </tr>\n",
       "    <tr>\n",
       "      <th>1</th>\n",
       "      <td>alarcon velasco, s</td>\n",
       "      <td>Colon</td>\n",
       "    </tr>\n",
       "    <tr>\n",
       "      <th>2</th>\n",
       "      <td>aly, a</td>\n",
       "      <td>Bladder, Prostate</td>\n",
       "    </tr>\n",
       "    <tr>\n",
       "      <th>3</th>\n",
       "      <td>ambrosone, c</td>\n",
       "      <td>Breast</td>\n",
       "    </tr>\n",
       "    <tr>\n",
       "      <th>4</th>\n",
       "      <td>bain, a</td>\n",
       "      <td>Pancreas</td>\n",
       "    </tr>\n",
       "    <tr>\n",
       "      <th>...</th>\n",
       "      <td>...</td>\n",
       "      <td>...</td>\n",
       "    </tr>\n",
       "    <tr>\n",
       "      <th>106</th>\n",
       "      <td>wooten, k</td>\n",
       "      <td>Lip, Oral Cavity and Pharynx, Melanoma, Skin</td>\n",
       "    </tr>\n",
       "    <tr>\n",
       "      <th>107</th>\n",
       "      <td>yau, e</td>\n",
       "      <td>Lung</td>\n",
       "    </tr>\n",
       "    <tr>\n",
       "      <th>108</th>\n",
       "      <td>yeary, k</td>\n",
       "      <td>Bladder, nan</td>\n",
       "    </tr>\n",
       "    <tr>\n",
       "      <th>109</th>\n",
       "      <td>yendamuri, s</td>\n",
       "      <td>Multiple Sites, Lung, nan</td>\n",
       "    </tr>\n",
       "    <tr>\n",
       "      <th>110</th>\n",
       "      <td>zsiros, e</td>\n",
       "      <td>Multiple Sites, Multiple, Cervix Uteri, Ovary, Corpus Uteri; Ovary, Unknown Sites</td>\n",
       "    </tr>\n",
       "  </tbody>\n",
       "</table>\n",
       "<p>111 rows × 2 columns</p>\n",
       "</div>"
      ],
      "text/plain": [
       "    Principal_Investigator  \\\n",
       "0                  abad, a   \n",
       "1       alarcon velasco, s   \n",
       "2                   aly, a   \n",
       "3             ambrosone, c   \n",
       "4                  bain, a   \n",
       "..                     ...   \n",
       "106              wooten, k   \n",
       "107                 yau, e   \n",
       "108               yeary, k   \n",
       "109           yendamuri, s   \n",
       "110              zsiros, e   \n",
       "\n",
       "                                                                          Primary_Site  \n",
       "0                                                             Brain and Nervous System  \n",
       "1                                                                                Colon  \n",
       "2                                                                    Bladder, Prostate  \n",
       "3                                                                               Breast  \n",
       "4                                                                             Pancreas  \n",
       "..                                                                                 ...  \n",
       "106                                       Lip, Oral Cavity and Pharynx, Melanoma, Skin  \n",
       "107                                                                               Lung  \n",
       "108                                                                       Bladder, nan  \n",
       "109                                                          Multiple Sites, Lung, nan  \n",
       "110  Multiple Sites, Multiple, Cervix Uteri, Ovary, Corpus Uteri; Ovary, Unknown Sites  \n",
       "\n",
       "[111 rows x 2 columns]"
      ]
     },
     "execution_count": 324,
     "metadata": {},
     "output_type": "execute_result"
    }
   ],
   "source": [
    "df_trials.groupby('Principal_Investigator')['Primary_Site'].apply(lambda x: ', '.join(x.astype(str).unique())).reset_index()"
   ]
  },
  {
   "cell_type": "code",
   "execution_count": 325,
   "metadata": {},
   "outputs": [
    {
     "name": "stdout",
     "output_type": "stream",
     "text": [
      "<class 'pandas.core.frame.DataFrame'>\n",
      "RangeIndex: 463 entries, 0 to 462\n",
      "Data columns (total 7 columns):\n",
      " #   Column                  Non-Null Count  Dtype \n",
      "---  ------                  --------------  ----- \n",
      " 0   Primary_Site            424 non-null    object\n",
      " 1   Protocol                463 non-null    object\n",
      " 2   Principal_Investigator  463 non-null    object\n",
      " 3   Date_Opened             462 non-null    object\n",
      " 4   Date_Closed             163 non-null    object\n",
      " 5   Study_Phase             291 non-null    object\n",
      " 6   Title                   463 non-null    object\n",
      "dtypes: object(7)\n",
      "memory usage: 25.4+ KB\n"
     ]
    }
   ],
   "source": [
    "df_trials.info()"
   ]
  },
  {
   "cell_type": "code",
   "execution_count": 326,
   "metadata": {},
   "outputs": [],
   "source": [
    "df_trials['Date_Opened'] = pd.to_datetime(df_trials['Date_Opened'],format='%m/%d/%Y')"
   ]
  },
  {
   "cell_type": "code",
   "execution_count": 327,
   "metadata": {},
   "outputs": [],
   "source": [
    "df_trials['Date_Closed'] = pd.to_datetime(df_trials['Date_Closed'],format='%m/%d/%Y')\n"
   ]
  },
  {
   "cell_type": "code",
   "execution_count": 328,
   "metadata": {},
   "outputs": [
    {
     "data": {
      "text/html": [
       "<div>\n",
       "<style scoped>\n",
       "    .dataframe tbody tr th:only-of-type {\n",
       "        vertical-align: middle;\n",
       "    }\n",
       "\n",
       "    .dataframe tbody tr th {\n",
       "        vertical-align: top;\n",
       "    }\n",
       "\n",
       "    .dataframe thead th {\n",
       "        text-align: right;\n",
       "    }\n",
       "</style>\n",
       "<table border=\"1\" class=\"dataframe\">\n",
       "  <thead>\n",
       "    <tr style=\"text-align: right;\">\n",
       "      <th></th>\n",
       "      <th>Primary_Site</th>\n",
       "      <th>Protocol</th>\n",
       "      <th>Principal_Investigator</th>\n",
       "      <th>Date_Opened</th>\n",
       "      <th>Date_Closed</th>\n",
       "      <th>Study_Phase</th>\n",
       "      <th>Title</th>\n",
       "    </tr>\n",
       "  </thead>\n",
       "  <tbody>\n",
       "    <tr>\n",
       "      <th>0</th>\n",
       "      <td>Brain and Nervous System</td>\n",
       "      <td>N-1262421</td>\n",
       "      <td>abad, a</td>\n",
       "      <td>2022-01-07</td>\n",
       "      <td>NaT</td>\n",
       "      <td>II</td>\n",
       "      <td>(A071702) A Phase II Study of Checkpoint Blockade Immunotherapy in Patients with Somatically Hypermutated Recurrent WHO Grade 4 Glioma</td>\n",
       "    </tr>\n",
       "    <tr>\n",
       "      <th>1</th>\n",
       "      <td>Brain and Nervous System</td>\n",
       "      <td>I-546319</td>\n",
       "      <td>abad, a</td>\n",
       "      <td>2021-07-08</td>\n",
       "      <td>2022-03-23</td>\n",
       "      <td>NaN</td>\n",
       "      <td>Expanded Access to SurVaxM for Treatment of Patients with Glioblastoma Who Have No Access to Other Comparable or Alternative Therapy or Have Completed Treatment on a non-Randomized Clinical Trial of SurVaxM and May Benefit from Further Treatment</td>\n",
       "    </tr>\n",
       "    <tr>\n",
       "      <th>2</th>\n",
       "      <td>Brain and Nervous System</td>\n",
       "      <td>P-1281721</td>\n",
       "      <td>abad, a</td>\n",
       "      <td>2022-03-08</td>\n",
       "      <td>NaT</td>\n",
       "      <td>II</td>\n",
       "      <td>A Multicenter, Open-Label Study with a Randomized Control Arm of the Efficacy, Safety, and Pharmacokinetics of Intravenously Infused Berubicin in Adult Patients with Recurrent Glioblastoma Multiforme (WHO Grade IV) After Failure of Standard First Line Therapy</td>\n",
       "    </tr>\n",
       "    <tr>\n",
       "      <th>3</th>\n",
       "      <td>Brain and Nervous System</td>\n",
       "      <td>I-813720</td>\n",
       "      <td>abad, a</td>\n",
       "      <td>2021-12-29</td>\n",
       "      <td>NaT</td>\n",
       "      <td>II</td>\n",
       "      <td>Prospective Randomized Placebo-Controlled Trial of SurVaxM Plus Adjuvant Temozolomide for Newly Diagnosed Glioblastoma (SURVIVE)</td>\n",
       "    </tr>\n",
       "    <tr>\n",
       "      <th>4</th>\n",
       "      <td>Colon</td>\n",
       "      <td>N-626620</td>\n",
       "      <td>alarcon velasco, s</td>\n",
       "      <td>2020-07-15</td>\n",
       "      <td>2023-02-27</td>\n",
       "      <td>II</td>\n",
       "      <td>(S1922) A Randomized Phase II Selection Study of Ramucirumab and Paclitaxel versus FOLFIRI in Refractory Small Bowel Adenocarcinoma</td>\n",
       "    </tr>\n",
       "    <tr>\n",
       "      <th>...</th>\n",
       "      <td>...</td>\n",
       "      <td>...</td>\n",
       "      <td>...</td>\n",
       "      <td>...</td>\n",
       "      <td>...</td>\n",
       "      <td>...</td>\n",
       "      <td>...</td>\n",
       "    </tr>\n",
       "    <tr>\n",
       "      <th>458</th>\n",
       "      <td>Multiple</td>\n",
       "      <td>P-1391721</td>\n",
       "      <td>zsiros, e</td>\n",
       "      <td>2022-05-20</td>\n",
       "      <td>NaT</td>\n",
       "      <td>I/II</td>\n",
       "      <td>NC762-01 A Phase 1/2, Open-Label, Dose-Escalation, Safety and Tolerability Study of NC762 in Subjects with Advanced or Metastatic Solid Tumors</td>\n",
       "    </tr>\n",
       "    <tr>\n",
       "      <th>459</th>\n",
       "      <td>Multiple</td>\n",
       "      <td>P-2058021</td>\n",
       "      <td>zsiros, e</td>\n",
       "      <td>2022-07-29</td>\n",
       "      <td>NaT</td>\n",
       "      <td>I</td>\n",
       "      <td>A Phase 1 Safety and Tolerability Study of DeTIL-0255 in Adults with Advanced Malignancies</td>\n",
       "    </tr>\n",
       "    <tr>\n",
       "      <th>460</th>\n",
       "      <td>Multiple</td>\n",
       "      <td>P-1263921</td>\n",
       "      <td>zsiros, e</td>\n",
       "      <td>2022-02-18</td>\n",
       "      <td>2022-12-07</td>\n",
       "      <td>I</td>\n",
       "      <td>A Phase 1, multicenter, Open-Label Study of SQZ-AAC-HPV as Monotherapy and in Combination with Immune Checkpoint Inhibitors in HLA-A*02+ Patients with HPV16+ Recurrent, Locally Advanced or Metastatic Solid Tumors</td>\n",
       "    </tr>\n",
       "    <tr>\n",
       "      <th>461</th>\n",
       "      <td>Corpus Uteri; Ovary</td>\n",
       "      <td>I-37616</td>\n",
       "      <td>zsiros, e</td>\n",
       "      <td>2016-12-12</td>\n",
       "      <td>NaT</td>\n",
       "      <td>NaN</td>\n",
       "      <td>Life On The Go 1: Evaluating the Effect of Baseline Physical Activity of Patients with Endometrial and Ovarian Cancer using State of the Art Activity Tracking Device</td>\n",
       "    </tr>\n",
       "    <tr>\n",
       "      <th>462</th>\n",
       "      <td>Unknown Sites</td>\n",
       "      <td>I-56117</td>\n",
       "      <td>zsiros, e</td>\n",
       "      <td>2018-06-13</td>\n",
       "      <td>2022-12-14</td>\n",
       "      <td>NaN</td>\n",
       "      <td>The GYN Molecular Information Registry</td>\n",
       "    </tr>\n",
       "  </tbody>\n",
       "</table>\n",
       "<p>463 rows × 7 columns</p>\n",
       "</div>"
      ],
      "text/plain": [
       "                 Primary_Site   Protocol Principal_Investigator Date_Opened  \\\n",
       "0    Brain and Nervous System  N-1262421                abad, a  2022-01-07   \n",
       "1    Brain and Nervous System   I-546319                abad, a  2021-07-08   \n",
       "2    Brain and Nervous System  P-1281721                abad, a  2022-03-08   \n",
       "3    Brain and Nervous System   I-813720                abad, a  2021-12-29   \n",
       "4                       Colon   N-626620     alarcon velasco, s  2020-07-15   \n",
       "..                        ...        ...                    ...         ...   \n",
       "458                  Multiple  P-1391721              zsiros, e  2022-05-20   \n",
       "459                  Multiple  P-2058021              zsiros, e  2022-07-29   \n",
       "460                  Multiple  P-1263921              zsiros, e  2022-02-18   \n",
       "461       Corpus Uteri; Ovary    I-37616              zsiros, e  2016-12-12   \n",
       "462             Unknown Sites    I-56117              zsiros, e  2018-06-13   \n",
       "\n",
       "    Date_Closed Study_Phase  \\\n",
       "0           NaT          II   \n",
       "1    2022-03-23         NaN   \n",
       "2           NaT          II   \n",
       "3           NaT          II   \n",
       "4    2023-02-27          II   \n",
       "..          ...         ...   \n",
       "458         NaT        I/II   \n",
       "459         NaT           I   \n",
       "460  2022-12-07           I   \n",
       "461         NaT         NaN   \n",
       "462  2022-12-14         NaN   \n",
       "\n",
       "                                                                                                                                                                                                                                                                   Title  \n",
       "0                                                                                                                                 (A071702) A Phase II Study of Checkpoint Blockade Immunotherapy in Patients with Somatically Hypermutated Recurrent WHO Grade 4 Glioma  \n",
       "1                  Expanded Access to SurVaxM for Treatment of Patients with Glioblastoma Who Have No Access to Other Comparable or Alternative Therapy or Have Completed Treatment on a non-Randomized Clinical Trial of SurVaxM and May Benefit from Further Treatment  \n",
       "2    A Multicenter, Open-Label Study with a Randomized Control Arm of the Efficacy, Safety, and Pharmacokinetics of Intravenously Infused Berubicin in Adult Patients with Recurrent Glioblastoma Multiforme (WHO Grade IV) After Failure of Standard First Line Therapy  \n",
       "3                                                                                                                                       Prospective Randomized Placebo-Controlled Trial of SurVaxM Plus Adjuvant Temozolomide for Newly Diagnosed Glioblastoma (SURVIVE)  \n",
       "4                                                                                                                                    (S1922) A Randomized Phase II Selection Study of Ramucirumab and Paclitaxel versus FOLFIRI in Refractory Small Bowel Adenocarcinoma  \n",
       "..                                                                                                                                                                                                                                                                   ...  \n",
       "458                                                                                                                       NC762-01 A Phase 1/2, Open-Label, Dose-Escalation, Safety and Tolerability Study of NC762 in Subjects with Advanced or Metastatic Solid Tumors  \n",
       "459                                                                                                                                                                           A Phase 1 Safety and Tolerability Study of DeTIL-0255 in Adults with Advanced Malignancies  \n",
       "460                                                 A Phase 1, multicenter, Open-Label Study of SQZ-AAC-HPV as Monotherapy and in Combination with Immune Checkpoint Inhibitors in HLA-A*02+ Patients with HPV16+ Recurrent, Locally Advanced or Metastatic Solid Tumors  \n",
       "461                                                                                                Life On The Go 1: Evaluating the Effect of Baseline Physical Activity of Patients with Endometrial and Ovarian Cancer using State of the Art Activity Tracking Device  \n",
       "462                                                                                                                                                                                                                               The GYN Molecular Information Registry  \n",
       "\n",
       "[463 rows x 7 columns]"
      ]
     },
     "execution_count": 328,
     "metadata": {},
     "output_type": "execute_result"
    }
   ],
   "source": [
    "df_trials"
   ]
  },
  {
   "cell_type": "code",
   "execution_count": 329,
   "metadata": {},
   "outputs": [
    {
     "data": {
      "text/plain": [
       "Index(['Primary_Site', 'Protocol', 'Principal_Investigator', 'Date_Opened',\n",
       "       'Date_Closed', 'Study_Phase', 'Title'],\n",
       "      dtype='object')"
      ]
     },
     "execution_count": 329,
     "metadata": {},
     "output_type": "execute_result"
    }
   ],
   "source": [
    "df_trials.columns"
   ]
  },
  {
   "cell_type": "code",
   "execution_count": 330,
   "metadata": {},
   "outputs": [
    {
     "data": {
      "text/plain": [
       "62"
      ]
     },
     "execution_count": 330,
     "metadata": {},
     "output_type": "execute_result"
    }
   ],
   "source": [
    "df_trials['Primary_Site'].nunique()"
   ]
  },
  {
   "cell_type": "code",
   "execution_count": 331,
   "metadata": {},
   "outputs": [],
   "source": [
    "df_trials = df_trials.dropna(subset=['Date_Closed'])"
   ]
  },
  {
   "cell_type": "code",
   "execution_count": 332,
   "metadata": {},
   "outputs": [],
   "source": [
    "df_trials = df_trials.dropna(subset=['Study_Phase'])"
   ]
  },
  {
   "cell_type": "code",
   "execution_count": 333,
   "metadata": {},
   "outputs": [
    {
     "data": {
      "text/plain": [
       "Primary_Site              5\n",
       "Protocol                  0\n",
       "Principal_Investigator    0\n",
       "Date_Opened               0\n",
       "Date_Closed               0\n",
       "Study_Phase               0\n",
       "Title                     0\n",
       "dtype: int64"
      ]
     },
     "execution_count": 333,
     "metadata": {},
     "output_type": "execute_result"
    }
   ],
   "source": [
    "df_trials.isna().sum()"
   ]
  },
  {
   "cell_type": "code",
   "execution_count": 334,
   "metadata": {},
   "outputs": [],
   "source": [
    "nan_rows_primary = df_trials[df_trials['Primary_Site'].isna()]\n"
   ]
  },
  {
   "cell_type": "code",
   "execution_count": 335,
   "metadata": {},
   "outputs": [],
   "source": [
    "# DRop de la variable\n",
    "\n",
    "df_trials = df_trials.drop(nan_rows_primary.index)"
   ]
  },
  {
   "cell_type": "code",
   "execution_count": 336,
   "metadata": {},
   "outputs": [
    {
     "data": {
      "text/html": [
       "<div>\n",
       "<style scoped>\n",
       "    .dataframe tbody tr th:only-of-type {\n",
       "        vertical-align: middle;\n",
       "    }\n",
       "\n",
       "    .dataframe tbody tr th {\n",
       "        vertical-align: top;\n",
       "    }\n",
       "\n",
       "    .dataframe thead th {\n",
       "        text-align: right;\n",
       "    }\n",
       "</style>\n",
       "<table border=\"1\" class=\"dataframe\">\n",
       "  <thead>\n",
       "    <tr style=\"text-align: right;\">\n",
       "      <th></th>\n",
       "      <th>Primary_Site</th>\n",
       "      <th>Protocol</th>\n",
       "      <th>Principal_Investigator</th>\n",
       "      <th>Date_Opened</th>\n",
       "      <th>Date_Closed</th>\n",
       "      <th>Study_Phase</th>\n",
       "      <th>Title</th>\n",
       "    </tr>\n",
       "  </thead>\n",
       "  <tbody>\n",
       "    <tr>\n",
       "      <th>4</th>\n",
       "      <td>Colon</td>\n",
       "      <td>N-626620</td>\n",
       "      <td>alarcon velasco, s</td>\n",
       "      <td>2020-07-15</td>\n",
       "      <td>2023-02-27</td>\n",
       "      <td>II</td>\n",
       "      <td>(S1922) A Randomized Phase II Selection Study of Ramucirumab and Paclitaxel versus FOLFIRI in Refractory Small Bowel Adenocarcinoma</td>\n",
       "    </tr>\n",
       "    <tr>\n",
       "      <th>10</th>\n",
       "      <td>Other Hematopoietic</td>\n",
       "      <td>N-71918</td>\n",
       "      <td>bambach, b</td>\n",
       "      <td>2018-10-11</td>\n",
       "      <td>2022-04-15</td>\n",
       "      <td>III</td>\n",
       "      <td>(ACCL1633) The Effectiveness of Lactobacillus plantarum (LBP, IND# 17339) in Preventing Acute Graft-versus-Host Disease (GvHD) in Children undergoing Alternative Hematopoietic Progenitor Cell Transplantation (HCT)</td>\n",
       "    </tr>\n",
       "    <tr>\n",
       "      <th>11</th>\n",
       "      <td>Multiple Sites; Leukemia, other</td>\n",
       "      <td>PH-271115</td>\n",
       "      <td>bambach, b</td>\n",
       "      <td>2016-08-03</td>\n",
       "      <td>2021-06-10</td>\n",
       "      <td>III</td>\n",
       "      <td>(ACCL1333/CV185-155) A Phase III Randomized, Open Label, Multi-center Study of the Safety and Efficacy of Apixaban for Venous Thromboembolism Prevention versus No Systemic Anticoagulant Prophylaxis during Induction Chemotherapy in Children with Newly Diagnosed Acute Lymphoblastic Leukemia (ALL) or Lymphoblastic Lymphoma (T or B cell) Treated with Asparaginase</td>\n",
       "    </tr>\n",
       "    <tr>\n",
       "      <th>30</th>\n",
       "      <td>Multiple Sites; Bladder</td>\n",
       "      <td>I-69518</td>\n",
       "      <td>chatta, g</td>\n",
       "      <td>2019-04-10</td>\n",
       "      <td>2022-12-01</td>\n",
       "      <td>II</td>\n",
       "      <td>(CITN-14) Randomized Phase II study of Atezolizumab (MPDL3280A) plus Recombinant Human IL-7 (CYT107) in patients with locally advanced or metastatic urothelial carcinoma</td>\n",
       "    </tr>\n",
       "    <tr>\n",
       "      <th>31</th>\n",
       "      <td>Prostate</td>\n",
       "      <td>I-63418</td>\n",
       "      <td>chatta, g</td>\n",
       "      <td>2019-06-07</td>\n",
       "      <td>2022-07-20</td>\n",
       "      <td>I/II</td>\n",
       "      <td>Phase Ib/II Study of Enzalutamide with Venetoclax (ABT-199) in Patients with Metastatic Castrate Resistant Prostate Cancer (mCRPC)</td>\n",
       "    </tr>\n",
       "    <tr>\n",
       "      <th>...</th>\n",
       "      <td>...</td>\n",
       "      <td>...</td>\n",
       "      <td>...</td>\n",
       "      <td>...</td>\n",
       "      <td>...</td>\n",
       "      <td>...</td>\n",
       "      <td>...</td>\n",
       "    </tr>\n",
       "    <tr>\n",
       "      <th>432</th>\n",
       "      <td>Myeloid and Monocytic Leukemia</td>\n",
       "      <td>P-1187721</td>\n",
       "      <td>wang, e</td>\n",
       "      <td>2022-05-25</td>\n",
       "      <td>2022-10-25</td>\n",
       "      <td>II</td>\n",
       "      <td>A Phase 2 Multi-Arm Study of Magrolimab Combinations in Patients with Myeloid Malignancies</td>\n",
       "    </tr>\n",
       "    <tr>\n",
       "      <th>434</th>\n",
       "      <td>Myeloid and Monocytic Leukemia</td>\n",
       "      <td>P-57117</td>\n",
       "      <td>wang, e</td>\n",
       "      <td>2018-07-11</td>\n",
       "      <td>2022-09-19</td>\n",
       "      <td>I</td>\n",
       "      <td>A Phase 1/2, Multi-center, Open-label Study of IMGN632 Monotherapy Administered Intravenously in Patients with CD123-positive Acute Myeloid Leukemia and Other CD123- positive Hematologic Malignancies</td>\n",
       "    </tr>\n",
       "    <tr>\n",
       "      <th>438</th>\n",
       "      <td>Myeloid and Monocytic Leukemia; Leukemia, other</td>\n",
       "      <td>P-46617</td>\n",
       "      <td>wang, e</td>\n",
       "      <td>2018-01-10</td>\n",
       "      <td>2022-06-30</td>\n",
       "      <td>I/II</td>\n",
       "      <td>Tagraxofusp (SL-401) in Patients with Chronic Myelomonocytic Leukemia (CMML) or Myelofibrosis (MF)</td>\n",
       "    </tr>\n",
       "    <tr>\n",
       "      <th>455</th>\n",
       "      <td>Multiple</td>\n",
       "      <td>P-762420</td>\n",
       "      <td>zsiros, e</td>\n",
       "      <td>2022-03-17</td>\n",
       "      <td>2022-08-19</td>\n",
       "      <td>I</td>\n",
       "      <td>20190131 A Phase 1, Multicenter, Open-label,Dose-Exploration and Dose-Expansion Study Evaluating the Safety,Tolerability,Pharmacokinetics, and Efficacy of AMG 650 in Subjects With Advanced Solid Tumors</td>\n",
       "    </tr>\n",
       "    <tr>\n",
       "      <th>460</th>\n",
       "      <td>Multiple</td>\n",
       "      <td>P-1263921</td>\n",
       "      <td>zsiros, e</td>\n",
       "      <td>2022-02-18</td>\n",
       "      <td>2022-12-07</td>\n",
       "      <td>I</td>\n",
       "      <td>A Phase 1, multicenter, Open-Label Study of SQZ-AAC-HPV as Monotherapy and in Combination with Immune Checkpoint Inhibitors in HLA-A*02+ Patients with HPV16+ Recurrent, Locally Advanced or Metastatic Solid Tumors</td>\n",
       "    </tr>\n",
       "  </tbody>\n",
       "</table>\n",
       "<p>105 rows × 7 columns</p>\n",
       "</div>"
      ],
      "text/plain": [
       "                                        Primary_Site   Protocol  \\\n",
       "4                                              Colon   N-626620   \n",
       "10                               Other Hematopoietic    N-71918   \n",
       "11                   Multiple Sites; Leukemia, other  PH-271115   \n",
       "30                           Multiple Sites; Bladder    I-69518   \n",
       "31                                          Prostate    I-63418   \n",
       "..                                               ...        ...   \n",
       "432                   Myeloid and Monocytic Leukemia  P-1187721   \n",
       "434                   Myeloid and Monocytic Leukemia    P-57117   \n",
       "438  Myeloid and Monocytic Leukemia; Leukemia, other    P-46617   \n",
       "455                                         Multiple   P-762420   \n",
       "460                                         Multiple  P-1263921   \n",
       "\n",
       "    Principal_Investigator Date_Opened Date_Closed Study_Phase  \\\n",
       "4       alarcon velasco, s  2020-07-15  2023-02-27          II   \n",
       "10              bambach, b  2018-10-11  2022-04-15         III   \n",
       "11              bambach, b  2016-08-03  2021-06-10         III   \n",
       "30               chatta, g  2019-04-10  2022-12-01          II   \n",
       "31               chatta, g  2019-06-07  2022-07-20        I/II   \n",
       "..                     ...         ...         ...         ...   \n",
       "432                wang, e  2022-05-25  2022-10-25          II   \n",
       "434                wang, e  2018-07-11  2022-09-19           I   \n",
       "438                wang, e  2018-01-10  2022-06-30        I/II   \n",
       "455              zsiros, e  2022-03-17  2022-08-19           I   \n",
       "460              zsiros, e  2022-02-18  2022-12-07           I   \n",
       "\n",
       "                                                                                                                                                                                                                                                                                                                                                                         Title  \n",
       "4                                                                                                                                                                                                                                          (S1922) A Randomized Phase II Selection Study of Ramucirumab and Paclitaxel versus FOLFIRI in Refractory Small Bowel Adenocarcinoma  \n",
       "10                                                                                                                                                       (ACCL1633) The Effectiveness of Lactobacillus plantarum (LBP, IND# 17339) in Preventing Acute Graft-versus-Host Disease (GvHD) in Children undergoing Alternative Hematopoietic Progenitor Cell Transplantation (HCT)  \n",
       "11   (ACCL1333/CV185-155) A Phase III Randomized, Open Label, Multi-center Study of the Safety and Efficacy of Apixaban for Venous Thromboembolism Prevention versus No Systemic Anticoagulant Prophylaxis during Induction Chemotherapy in Children with Newly Diagnosed Acute Lymphoblastic Leukemia (ALL) or Lymphoblastic Lymphoma (T or B cell) Treated with Asparaginase  \n",
       "30                                                                                                                                                                                                   (CITN-14) Randomized Phase II study of Atezolizumab (MPDL3280A) plus Recombinant Human IL-7 (CYT107) in patients with locally advanced or metastatic urothelial carcinoma  \n",
       "31                                                                                                                                                                                                                                          Phase Ib/II Study of Enzalutamide with Venetoclax (ABT-199) in Patients with Metastatic Castrate Resistant Prostate Cancer (mCRPC)  \n",
       "..                                                                                                                                                                                                                                                                                                                                                                         ...  \n",
       "432                                                                                                                                                                                                                                                                                 A Phase 2 Multi-Arm Study of Magrolimab Combinations in Patients with Myeloid Malignancies  \n",
       "434                                                                                                                                                                    A Phase 1/2, Multi-center, Open-label Study of IMGN632 Monotherapy Administered Intravenously in Patients with CD123-positive Acute Myeloid Leukemia and Other CD123- positive Hematologic Malignancies  \n",
       "438                                                                                                                                                                                                                                                                         Tagraxofusp (SL-401) in Patients with Chronic Myelomonocytic Leukemia (CMML) or Myelofibrosis (MF)  \n",
       "455                                                                                                                                                                  20190131 A Phase 1, Multicenter, Open-label,Dose-Exploration and Dose-Expansion Study Evaluating the Safety,Tolerability,Pharmacokinetics, and Efficacy of AMG 650 in Subjects With Advanced Solid Tumors  \n",
       "460                                                                                                                                                       A Phase 1, multicenter, Open-Label Study of SQZ-AAC-HPV as Monotherapy and in Combination with Immune Checkpoint Inhibitors in HLA-A*02+ Patients with HPV16+ Recurrent, Locally Advanced or Metastatic Solid Tumors  \n",
       "\n",
       "[105 rows x 7 columns]"
      ]
     },
     "execution_count": 336,
     "metadata": {},
     "output_type": "execute_result"
    }
   ],
   "source": [
    "df_trials"
   ]
  },
  {
   "cell_type": "code",
   "execution_count": 337,
   "metadata": {},
   "outputs": [
    {
     "data": {
      "text/plain": [
       "105"
      ]
     },
     "execution_count": 337,
     "metadata": {},
     "output_type": "execute_result"
    }
   ],
   "source": [
    "df_trials['Protocol'].nunique()"
   ]
  },
  {
   "cell_type": "code",
   "execution_count": 338,
   "metadata": {},
   "outputs": [
    {
     "data": {
      "text/plain": [
       "array(['II', 'III', 'I/II', 'I', 'IV', 'II/III', 'Early Phase I'],\n",
       "      dtype=object)"
      ]
     },
     "execution_count": 338,
     "metadata": {},
     "output_type": "execute_result"
    }
   ],
   "source": [
    "df_trials['Study_Phase'].unique()"
   ]
  },
  {
   "cell_type": "code",
   "execution_count": 339,
   "metadata": {},
   "outputs": [],
   "source": [
    "df_trials['Study_Phase_numeric'] = df_trials['Study_Phase'].replace({'Early Phase I':-1,'I': 1,'I/II':1-2, 'II': 2,'II/III': 2-3, 'III': 3,'IV':4 })"
   ]
  },
  {
   "cell_type": "code",
   "execution_count": 340,
   "metadata": {},
   "outputs": [],
   "source": [
    "pd.set_option('display.max_colwidth', None)"
   ]
  },
  {
   "cell_type": "code",
   "execution_count": 341,
   "metadata": {},
   "outputs": [],
   "source": [
    "df_trials['Code_title'] = df_trials['Title'].str.extract(r'\\((.*?)\\)')"
   ]
  },
  {
   "cell_type": "code",
   "execution_count": 342,
   "metadata": {},
   "outputs": [
    {
     "data": {
      "text/html": [
       "<div>\n",
       "<style scoped>\n",
       "    .dataframe tbody tr th:only-of-type {\n",
       "        vertical-align: middle;\n",
       "    }\n",
       "\n",
       "    .dataframe tbody tr th {\n",
       "        vertical-align: top;\n",
       "    }\n",
       "\n",
       "    .dataframe thead th {\n",
       "        text-align: right;\n",
       "    }\n",
       "</style>\n",
       "<table border=\"1\" class=\"dataframe\">\n",
       "  <thead>\n",
       "    <tr style=\"text-align: right;\">\n",
       "      <th></th>\n",
       "      <th>Primary_Site</th>\n",
       "      <th>Protocol</th>\n",
       "      <th>Principal_Investigator</th>\n",
       "      <th>Date_Opened</th>\n",
       "      <th>Date_Closed</th>\n",
       "      <th>Study_Phase</th>\n",
       "      <th>Title</th>\n",
       "      <th>Study_Phase_numeric</th>\n",
       "      <th>Code_title</th>\n",
       "    </tr>\n",
       "  </thead>\n",
       "  <tbody>\n",
       "    <tr>\n",
       "      <th>4</th>\n",
       "      <td>Colon</td>\n",
       "      <td>N-626620</td>\n",
       "      <td>alarcon velasco, s</td>\n",
       "      <td>2020-07-15</td>\n",
       "      <td>2023-02-27</td>\n",
       "      <td>II</td>\n",
       "      <td>(S1922) A Randomized Phase II Selection Study of Ramucirumab and Paclitaxel versus FOLFIRI in Refractory Small Bowel Adenocarcinoma</td>\n",
       "      <td>2</td>\n",
       "      <td>S1922</td>\n",
       "    </tr>\n",
       "  </tbody>\n",
       "</table>\n",
       "</div>"
      ],
      "text/plain": [
       "  Primary_Site  Protocol Principal_Investigator Date_Opened Date_Closed  \\\n",
       "4        Colon  N-626620     alarcon velasco, s  2020-07-15  2023-02-27   \n",
       "\n",
       "  Study_Phase  \\\n",
       "4          II   \n",
       "\n",
       "                                                                                                                                 Title  \\\n",
       "4  (S1922) A Randomized Phase II Selection Study of Ramucirumab and Paclitaxel versus FOLFIRI in Refractory Small Bowel Adenocarcinoma   \n",
       "\n",
       "   Study_Phase_numeric Code_title  \n",
       "4                    2      S1922  "
      ]
     },
     "execution_count": 342,
     "metadata": {},
     "output_type": "execute_result"
    }
   ],
   "source": [
    "df_trials.head(1)"
   ]
  },
  {
   "cell_type": "code",
   "execution_count": 343,
   "metadata": {},
   "outputs": [
    {
     "data": {
      "text/plain": [
       "(105, 9)"
      ]
     },
     "execution_count": 343,
     "metadata": {},
     "output_type": "execute_result"
    }
   ],
   "source": [
    "df_trials.shape"
   ]
  },
  {
   "cell_type": "code",
   "execution_count": 344,
   "metadata": {},
   "outputs": [
    {
     "name": "stdout",
     "output_type": "stream",
     "text": [
      "Trial unique -  ['S1922' 'ACCL1633' 'ACCL1333/CV185-155' 'CITN-14' 'ABT-199' 'BPX-601' nan\n",
      " 'ALVR105' 'E4512 ' 'osimertinib' 'CodeBreak 100' 'NSCLC' 'TABAsCO'\n",
      " 'ISN 8951-CL-0301' 'BPX-603' 'HCRN ESO17-325' 'MK-3475' 'ALKS 4230-001'\n",
      " 'HM30181A + Eribulin' 'SC' 'ASG-22CE' 'EBV+' 'A031901' 'ASTX727 LD'\n",
      " 'A091902' 'ABT 199' 'A041702' 'MLN4924, TAK924' 'DLBCL' 'CTLA4-Ig'\n",
      " 'CAR-T' 'AMG 510' 'S1826' 'Pembrolizumab' 'ADT' 'Phase II' 'NRG-GY006'\n",
      " 'A011202' 'NCT03199885' 'NSC #707389' 'CAR' 'AML' 'A021502' 'NCI 9673'\n",
      " 'TAS-102' 'GEC' 'S1827' 'S2000' 'PET-Stop' 'S1609' 'S1801' 'ADCT-301'\n",
      " 'tavo, pIL-12' 'GA-CARES' 'COG ALTE1621' 'BMT CTN Protocol 1507'\n",
      " 'Multi Tumor-Associated Antigen T cells' 'NRG-HN004' 'PAI' 'SBRT' 'S1712'\n",
      " 'AU2' 'VICC HEM1755' 'COG AAML1531' 'COG AALL1521' 'Obi-3424' 'SL-401']\n",
      "\n",
      "Clinical trials =  66\n"
     ]
    }
   ],
   "source": [
    "print('Trial unique - ',df_trials['Code_title'].unique())\n",
    "print()\n",
    "print('Clinical trials = '  ,df_trials['Code_title'].nunique())"
   ]
  },
  {
   "cell_type": "code",
   "execution_count": 345,
   "metadata": {},
   "outputs": [
    {
     "data": {
      "text/plain": [
       "'S1922'"
      ]
     },
     "execution_count": 345,
     "metadata": {},
     "output_type": "execute_result"
    }
   ],
   "source": [
    "df_trials['Code_title'].value_counts().idxmax()"
   ]
  },
  {
   "cell_type": "code",
   "execution_count": 346,
   "metadata": {},
   "outputs": [],
   "source": [
    "unique_trials = df_trials['Code_title'].value_counts().sort_values(ascending=False)"
   ]
  },
  {
   "cell_type": "code",
   "execution_count": 347,
   "metadata": {},
   "outputs": [
    {
     "name": "stdout",
     "output_type": "stream",
     "text": [
      "Code_title\n",
      "S1922                 1\n",
      "MK-3475               1\n",
      "S1826                 1\n",
      "ACCL1333/CV185-155    1\n",
      "CITN-14               1\n",
      "                     ..\n",
      "AU2                   1\n",
      "VICC HEM1755          1\n",
      "COG AAML1531          1\n",
      "COG AALL1521          1\n",
      "SL-401                1\n",
      "Name: count, Length: 66, dtype: int64\n"
     ]
    }
   ],
   "source": [
    "print(unique_trials)"
   ]
  },
  {
   "cell_type": "code",
   "execution_count": 348,
   "metadata": {},
   "outputs": [
    {
     "data": {
      "text/plain": [
       "<pandas._config.config.option_context at 0x2ac4599b290>"
      ]
     },
     "execution_count": 348,
     "metadata": {},
     "output_type": "execute_result"
    }
   ],
   "source": [
    "pd.option_context('display.max_rows', None, 'display.max_columns', None)\n"
   ]
  },
  {
   "cell_type": "code",
   "execution_count": 349,
   "metadata": {},
   "outputs": [],
   "source": [
    "df_trials['Study_Duration'] = df_trials['Date_Closed'] - df_trials['Date_Opened']"
   ]
  },
  {
   "cell_type": "code",
   "execution_count": 350,
   "metadata": {},
   "outputs": [
    {
     "data": {
      "text/html": [
       "<div>\n",
       "<style scoped>\n",
       "    .dataframe tbody tr th:only-of-type {\n",
       "        vertical-align: middle;\n",
       "    }\n",
       "\n",
       "    .dataframe tbody tr th {\n",
       "        vertical-align: top;\n",
       "    }\n",
       "\n",
       "    .dataframe thead th {\n",
       "        text-align: right;\n",
       "    }\n",
       "</style>\n",
       "<table border=\"1\" class=\"dataframe\">\n",
       "  <thead>\n",
       "    <tr style=\"text-align: right;\">\n",
       "      <th></th>\n",
       "      <th>Primary_Site</th>\n",
       "      <th>Protocol</th>\n",
       "      <th>Principal_Investigator</th>\n",
       "      <th>Date_Opened</th>\n",
       "      <th>Date_Closed</th>\n",
       "      <th>Study_Phase</th>\n",
       "      <th>Title</th>\n",
       "      <th>Study_Phase_numeric</th>\n",
       "      <th>Code_title</th>\n",
       "      <th>Study_Duration</th>\n",
       "    </tr>\n",
       "  </thead>\n",
       "  <tbody>\n",
       "    <tr>\n",
       "      <th>4</th>\n",
       "      <td>Colon</td>\n",
       "      <td>N-626620</td>\n",
       "      <td>alarcon velasco, s</td>\n",
       "      <td>2020-07-15</td>\n",
       "      <td>2023-02-27</td>\n",
       "      <td>II</td>\n",
       "      <td>(S1922) A Randomized Phase II Selection Study of Ramucirumab and Paclitaxel versus FOLFIRI in Refractory Small Bowel Adenocarcinoma</td>\n",
       "      <td>2</td>\n",
       "      <td>S1922</td>\n",
       "      <td>957 days</td>\n",
       "    </tr>\n",
       "    <tr>\n",
       "      <th>10</th>\n",
       "      <td>Other Hematopoietic</td>\n",
       "      <td>N-71918</td>\n",
       "      <td>bambach, b</td>\n",
       "      <td>2018-10-11</td>\n",
       "      <td>2022-04-15</td>\n",
       "      <td>III</td>\n",
       "      <td>(ACCL1633) The Effectiveness of Lactobacillus plantarum (LBP, IND# 17339) in Preventing Acute Graft-versus-Host Disease (GvHD) in Children undergoing Alternative Hematopoietic Progenitor Cell Transplantation (HCT)</td>\n",
       "      <td>3</td>\n",
       "      <td>ACCL1633</td>\n",
       "      <td>1282 days</td>\n",
       "    </tr>\n",
       "    <tr>\n",
       "      <th>11</th>\n",
       "      <td>Multiple Sites; Leukemia, other</td>\n",
       "      <td>PH-271115</td>\n",
       "      <td>bambach, b</td>\n",
       "      <td>2016-08-03</td>\n",
       "      <td>2021-06-10</td>\n",
       "      <td>III</td>\n",
       "      <td>(ACCL1333/CV185-155) A Phase III Randomized, Open Label, Multi-center Study of the Safety and Efficacy of Apixaban for Venous Thromboembolism Prevention versus No Systemic Anticoagulant Prophylaxis during Induction Chemotherapy in Children with Newly Diagnosed Acute Lymphoblastic Leukemia (ALL) or Lymphoblastic Lymphoma (T or B cell) Treated with Asparaginase</td>\n",
       "      <td>3</td>\n",
       "      <td>ACCL1333/CV185-155</td>\n",
       "      <td>1772 days</td>\n",
       "    </tr>\n",
       "    <tr>\n",
       "      <th>30</th>\n",
       "      <td>Multiple Sites; Bladder</td>\n",
       "      <td>I-69518</td>\n",
       "      <td>chatta, g</td>\n",
       "      <td>2019-04-10</td>\n",
       "      <td>2022-12-01</td>\n",
       "      <td>II</td>\n",
       "      <td>(CITN-14) Randomized Phase II study of Atezolizumab (MPDL3280A) plus Recombinant Human IL-7 (CYT107) in patients with locally advanced or metastatic urothelial carcinoma</td>\n",
       "      <td>2</td>\n",
       "      <td>CITN-14</td>\n",
       "      <td>1331 days</td>\n",
       "    </tr>\n",
       "    <tr>\n",
       "      <th>31</th>\n",
       "      <td>Prostate</td>\n",
       "      <td>I-63418</td>\n",
       "      <td>chatta, g</td>\n",
       "      <td>2019-06-07</td>\n",
       "      <td>2022-07-20</td>\n",
       "      <td>I/II</td>\n",
       "      <td>Phase Ib/II Study of Enzalutamide with Venetoclax (ABT-199) in Patients with Metastatic Castrate Resistant Prostate Cancer (mCRPC)</td>\n",
       "      <td>-1</td>\n",
       "      <td>ABT-199</td>\n",
       "      <td>1139 days</td>\n",
       "    </tr>\n",
       "  </tbody>\n",
       "</table>\n",
       "</div>"
      ],
      "text/plain": [
       "                       Primary_Site   Protocol Principal_Investigator  \\\n",
       "4                             Colon   N-626620     alarcon velasco, s   \n",
       "10              Other Hematopoietic    N-71918             bambach, b   \n",
       "11  Multiple Sites; Leukemia, other  PH-271115             bambach, b   \n",
       "30          Multiple Sites; Bladder    I-69518              chatta, g   \n",
       "31                         Prostate    I-63418              chatta, g   \n",
       "\n",
       "   Date_Opened Date_Closed Study_Phase  \\\n",
       "4   2020-07-15  2023-02-27          II   \n",
       "10  2018-10-11  2022-04-15         III   \n",
       "11  2016-08-03  2021-06-10         III   \n",
       "30  2019-04-10  2022-12-01          II   \n",
       "31  2019-06-07  2022-07-20        I/II   \n",
       "\n",
       "                                                                                                                                                                                                                                                                                                                                                                        Title  \\\n",
       "4                                                                                                                                                                                                                                         (S1922) A Randomized Phase II Selection Study of Ramucirumab and Paclitaxel versus FOLFIRI in Refractory Small Bowel Adenocarcinoma   \n",
       "10                                                                                                                                                      (ACCL1633) The Effectiveness of Lactobacillus plantarum (LBP, IND# 17339) in Preventing Acute Graft-versus-Host Disease (GvHD) in Children undergoing Alternative Hematopoietic Progenitor Cell Transplantation (HCT)   \n",
       "11  (ACCL1333/CV185-155) A Phase III Randomized, Open Label, Multi-center Study of the Safety and Efficacy of Apixaban for Venous Thromboembolism Prevention versus No Systemic Anticoagulant Prophylaxis during Induction Chemotherapy in Children with Newly Diagnosed Acute Lymphoblastic Leukemia (ALL) or Lymphoblastic Lymphoma (T or B cell) Treated with Asparaginase   \n",
       "30                                                                                                                                                                                                  (CITN-14) Randomized Phase II study of Atezolizumab (MPDL3280A) plus Recombinant Human IL-7 (CYT107) in patients with locally advanced or metastatic urothelial carcinoma   \n",
       "31                                                                                                                                                                                                                                         Phase Ib/II Study of Enzalutamide with Venetoclax (ABT-199) in Patients with Metastatic Castrate Resistant Prostate Cancer (mCRPC)   \n",
       "\n",
       "    Study_Phase_numeric          Code_title Study_Duration  \n",
       "4                     2               S1922       957 days  \n",
       "10                    3            ACCL1633      1282 days  \n",
       "11                    3  ACCL1333/CV185-155      1772 days  \n",
       "30                    2             CITN-14      1331 days  \n",
       "31                   -1             ABT-199      1139 days  "
      ]
     },
     "execution_count": 350,
     "metadata": {},
     "output_type": "execute_result"
    }
   ],
   "source": [
    "df_trials.head()"
   ]
  },
  {
   "cell_type": "code",
   "execution_count": 351,
   "metadata": {},
   "outputs": [
    {
     "data": {
      "text/plain": [
       "39"
      ]
     },
     "execution_count": 351,
     "metadata": {},
     "output_type": "execute_result"
    }
   ],
   "source": [
    "df_trials['Primary_Site'].nunique()"
   ]
  },
  {
   "cell_type": "code",
   "execution_count": 352,
   "metadata": {},
   "outputs": [],
   "source": [
    "df_trials.to_csv('Trials.csv', index=False)"
   ]
  },
  {
   "cell_type": "code",
   "execution_count": 353,
   "metadata": {},
   "outputs": [
    {
     "data": {
      "text/html": [
       "<div>\n",
       "<style scoped>\n",
       "    .dataframe tbody tr th:only-of-type {\n",
       "        vertical-align: middle;\n",
       "    }\n",
       "\n",
       "    .dataframe tbody tr th {\n",
       "        vertical-align: top;\n",
       "    }\n",
       "\n",
       "    .dataframe thead th {\n",
       "        text-align: right;\n",
       "    }\n",
       "</style>\n",
       "<table border=\"1\" class=\"dataframe\">\n",
       "  <thead>\n",
       "    <tr style=\"text-align: right;\">\n",
       "      <th></th>\n",
       "      <th>Primary_Site</th>\n",
       "      <th>Protocol</th>\n",
       "      <th>Principal_Investigator</th>\n",
       "      <th>Date_Opened</th>\n",
       "      <th>Date_Closed</th>\n",
       "      <th>Study_Phase</th>\n",
       "      <th>Title</th>\n",
       "      <th>Study_Phase_numeric</th>\n",
       "      <th>Code_title</th>\n",
       "      <th>Study_Duration</th>\n",
       "    </tr>\n",
       "  </thead>\n",
       "  <tbody>\n",
       "    <tr>\n",
       "      <th>4</th>\n",
       "      <td>Colon</td>\n",
       "      <td>N-626620</td>\n",
       "      <td>alarcon velasco, s</td>\n",
       "      <td>2020-07-15</td>\n",
       "      <td>2023-02-27</td>\n",
       "      <td>II</td>\n",
       "      <td>(S1922) A Randomized Phase II Selection Study of Ramucirumab and Paclitaxel versus FOLFIRI in Refractory Small Bowel Adenocarcinoma</td>\n",
       "      <td>2</td>\n",
       "      <td>S1922</td>\n",
       "      <td>957 days</td>\n",
       "    </tr>\n",
       "    <tr>\n",
       "      <th>10</th>\n",
       "      <td>Other Hematopoietic</td>\n",
       "      <td>N-71918</td>\n",
       "      <td>bambach, b</td>\n",
       "      <td>2018-10-11</td>\n",
       "      <td>2022-04-15</td>\n",
       "      <td>III</td>\n",
       "      <td>(ACCL1633) The Effectiveness of Lactobacillus plantarum (LBP, IND# 17339) in Preventing Acute Graft-versus-Host Disease (GvHD) in Children undergoing Alternative Hematopoietic Progenitor Cell Transplantation (HCT)</td>\n",
       "      <td>3</td>\n",
       "      <td>ACCL1633</td>\n",
       "      <td>1282 days</td>\n",
       "    </tr>\n",
       "    <tr>\n",
       "      <th>11</th>\n",
       "      <td>Multiple Sites; Leukemia, other</td>\n",
       "      <td>PH-271115</td>\n",
       "      <td>bambach, b</td>\n",
       "      <td>2016-08-03</td>\n",
       "      <td>2021-06-10</td>\n",
       "      <td>III</td>\n",
       "      <td>(ACCL1333/CV185-155) A Phase III Randomized, Open Label, Multi-center Study of the Safety and Efficacy of Apixaban for Venous Thromboembolism Prevention versus No Systemic Anticoagulant Prophylaxis during Induction Chemotherapy in Children with Newly Diagnosed Acute Lymphoblastic Leukemia (ALL) or Lymphoblastic Lymphoma (T or B cell) Treated with Asparaginase</td>\n",
       "      <td>3</td>\n",
       "      <td>ACCL1333/CV185-155</td>\n",
       "      <td>1772 days</td>\n",
       "    </tr>\n",
       "    <tr>\n",
       "      <th>30</th>\n",
       "      <td>Multiple Sites; Bladder</td>\n",
       "      <td>I-69518</td>\n",
       "      <td>chatta, g</td>\n",
       "      <td>2019-04-10</td>\n",
       "      <td>2022-12-01</td>\n",
       "      <td>II</td>\n",
       "      <td>(CITN-14) Randomized Phase II study of Atezolizumab (MPDL3280A) plus Recombinant Human IL-7 (CYT107) in patients with locally advanced or metastatic urothelial carcinoma</td>\n",
       "      <td>2</td>\n",
       "      <td>CITN-14</td>\n",
       "      <td>1331 days</td>\n",
       "    </tr>\n",
       "    <tr>\n",
       "      <th>31</th>\n",
       "      <td>Prostate</td>\n",
       "      <td>I-63418</td>\n",
       "      <td>chatta, g</td>\n",
       "      <td>2019-06-07</td>\n",
       "      <td>2022-07-20</td>\n",
       "      <td>I/II</td>\n",
       "      <td>Phase Ib/II Study of Enzalutamide with Venetoclax (ABT-199) in Patients with Metastatic Castrate Resistant Prostate Cancer (mCRPC)</td>\n",
       "      <td>-1</td>\n",
       "      <td>ABT-199</td>\n",
       "      <td>1139 days</td>\n",
       "    </tr>\n",
       "  </tbody>\n",
       "</table>\n",
       "</div>"
      ],
      "text/plain": [
       "                       Primary_Site   Protocol Principal_Investigator  \\\n",
       "4                             Colon   N-626620     alarcon velasco, s   \n",
       "10              Other Hematopoietic    N-71918             bambach, b   \n",
       "11  Multiple Sites; Leukemia, other  PH-271115             bambach, b   \n",
       "30          Multiple Sites; Bladder    I-69518              chatta, g   \n",
       "31                         Prostate    I-63418              chatta, g   \n",
       "\n",
       "   Date_Opened Date_Closed Study_Phase  \\\n",
       "4   2020-07-15  2023-02-27          II   \n",
       "10  2018-10-11  2022-04-15         III   \n",
       "11  2016-08-03  2021-06-10         III   \n",
       "30  2019-04-10  2022-12-01          II   \n",
       "31  2019-06-07  2022-07-20        I/II   \n",
       "\n",
       "                                                                                                                                                                                                                                                                                                                                                                        Title  \\\n",
       "4                                                                                                                                                                                                                                         (S1922) A Randomized Phase II Selection Study of Ramucirumab and Paclitaxel versus FOLFIRI in Refractory Small Bowel Adenocarcinoma   \n",
       "10                                                                                                                                                      (ACCL1633) The Effectiveness of Lactobacillus plantarum (LBP, IND# 17339) in Preventing Acute Graft-versus-Host Disease (GvHD) in Children undergoing Alternative Hematopoietic Progenitor Cell Transplantation (HCT)   \n",
       "11  (ACCL1333/CV185-155) A Phase III Randomized, Open Label, Multi-center Study of the Safety and Efficacy of Apixaban for Venous Thromboembolism Prevention versus No Systemic Anticoagulant Prophylaxis during Induction Chemotherapy in Children with Newly Diagnosed Acute Lymphoblastic Leukemia (ALL) or Lymphoblastic Lymphoma (T or B cell) Treated with Asparaginase   \n",
       "30                                                                                                                                                                                                  (CITN-14) Randomized Phase II study of Atezolizumab (MPDL3280A) plus Recombinant Human IL-7 (CYT107) in patients with locally advanced or metastatic urothelial carcinoma   \n",
       "31                                                                                                                                                                                                                                         Phase Ib/II Study of Enzalutamide with Venetoclax (ABT-199) in Patients with Metastatic Castrate Resistant Prostate Cancer (mCRPC)   \n",
       "\n",
       "    Study_Phase_numeric          Code_title Study_Duration  \n",
       "4                     2               S1922       957 days  \n",
       "10                    3            ACCL1633      1282 days  \n",
       "11                    3  ACCL1333/CV185-155      1772 days  \n",
       "30                    2             CITN-14      1331 days  \n",
       "31                   -1             ABT-199      1139 days  "
      ]
     },
     "execution_count": 353,
     "metadata": {},
     "output_type": "execute_result"
    }
   ],
   "source": [
    "df_trials.head()"
   ]
  },
  {
   "cell_type": "code",
   "execution_count": 357,
   "metadata": {},
   "outputs": [
    {
     "data": {
      "text/plain": [
       "Timestamp('2014-04-08 00:00:00')"
      ]
     },
     "execution_count": 357,
     "metadata": {},
     "output_type": "execute_result"
    }
   ],
   "source": [
    "df_trials['Date_Opened'].min()"
   ]
  },
  {
   "cell_type": "code",
   "execution_count": null,
   "metadata": {},
   "outputs": [],
   "source": []
  },
  {
   "cell_type": "code",
   "execution_count": null,
   "metadata": {},
   "outputs": [
    {
     "data": {
      "image/png": "[encoded data removed]",
      "text/plain": [
       "<Figure size 1000x600 with 1 Axes>"
      ]
     },
     "metadata": {},
     "output_type": "display_data"
    }
   ],
   "source": [
    "import seaborn as sns\n",
    "import matplotlib.pyplot as plt\n",
    "\n",
    "df_trials['Study_Duration'] = pd.to_timedelta(df_trials['Study_Duration'])\n",
    "\n",
    "df_trials['Study_Duration_days'] = df_trials['Study_Duration'].dt.days\n",
    "\n",
    "plt.figure(figsize=(10, 6))\n",
    "sns.boxplot(x='Study_Phase_numeric', y='Study_Duration_days', data=df_trials)\n",
    "plt.title('Relación entre la fase del estudio y la duración del estudio')\n",
    "plt.xlabel('Fase del estudio')\n",
    "plt.ylabel('Duración del estudio (días)')\n",
    "plt.show()"
   ]
  },
  {
   "cell_type": "code",
   "execution_count": null,
   "metadata": {},
   "outputs": [
    {
     "data": {
      "image/png": "[encoded data removed]",
      "text/plain": [
       "<Figure size 1000x1000 with 5 Axes>"
      ]
     },
     "metadata": {},
     "output_type": "display_data"
    }
   ],
   "source": [
    "import seaborn as sns\n",
    "import matplotlib.pyplot as plt\n",
    "\n",
    "# Asegúrate de que 'Study_Duration' sea de tipo 'timedelta'\n",
    "df_trials['Study_Duration'] = pd.to_timedelta(df_trials['Study_Duration'])\n",
    "\n",
    "# Convierte 'Study_Duration' a días\n",
    "df_trials['Study_Duration_days'] = df_trials['Study_Duration'].dt.days\n",
    "\n",
    "# Crea una figura y un conjunto de subtramas con un tamaño más grande en el eje y\n",
    "fig, axs = plt.subplots(nrows=df_trials['Study_Phase_numeric'].nunique(), figsize=(10, 10))\n",
    "\n",
    "# Para cada fase del estudio, crea un histograma o un gráfico KDE\n",
    "for i, phase in enumerate(df_trials['Study_Phase_numeric'].unique()):\n",
    "    sns.histplot(data=df_trials[df_trials['Study_Phase_numeric'] == phase], x='Study_Duration_days', kde=True, ax=axs[i])\n",
    "    axs[i].set_title(f'Fase del estudio: {phase}')\n",
    "    axs[i].set_xlabel('Duración del estudio (días)')\n",
    "\n",
    "plt.tight_layout()\n",
    "plt.show()\n"
   ]
  }
 ],
 "metadata": {
  "kernelspec": {
   "display_name": "Python 3",
   "language": "python",
   "name": "python3"
  },
  "language_info": {
   "codemirror_mode": {
    "name": "ipython",
    "version": 3
   },
   "file_extension": ".py",
   "mimetype": "text/x-python",
   "name": "python",
   "nbconvert_exporter": "python",
   "pygments_lexer": "ipython3",
   "version": "3.11.1"
  },
  "orig_nbformat": 4
 },
 "nbformat": 4,
 "nbformat_minor": 2
}
